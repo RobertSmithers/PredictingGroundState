{
 "cells": [
  {
   "cell_type": "markdown",
   "metadata": {},
   "source": [
    "### In this file, we will generate our E0 feature data"
   ]
  },
  {
   "cell_type": "markdown",
   "metadata": {},
   "source": [
    "Instructions: \n",
    "\n",
    "You should start by writing a notebook to create the dataset. Note that if you use many molecules, using MOPAC could take a while. If you decide to optimize the geometry of all the molecules in the Solubility datasets, ot will take at least 12 hours. Make sure to save the result so that you don't have to compute it multiple times!"
   ]
  },
  {
   "cell_type": "code",
   "execution_count": null,
   "metadata": {},
   "outputs": [],
   "source": [
    "# Pandas dataframe, apply function to whole dataframe\n",
    "# Make sure it works on a small dataset. Save the results\n",
    "# Create dataset associated smiles to energy. Then, run overnight on all data\n",
    "# Once dataset ready, can move on to next step\n",
    "\n",
    "import pandas as pd\n",
    "import os"
   ]
  },
  {
   "cell_type": "code",
   "execution_count": null,
   "metadata": {},
   "outputs": [],
   "source": [
    "# Combine Datasets\n",
    "def generate_combined_dataset(dir_path, fnames, out_name=\"\", debug=False):\n",
    "    combined = None\n",
    "    print(\"Outname is\", out_name)\n",
    "    for f in fnames:\n",
    "        df = pd.read_csv(dir_path + f)\n",
    "        if combined is None:\n",
    "            combined = df.copy()\n",
    "        else:\n",
    "            ## Here we do not check for duplicates as Professor Tristan in class informed me that there should not be any duplicate data between the sets\n",
    "            combined = pd.concat([combined, df])\n",
    "        if debug:\n",
    "            print(\"Added \" + str(f) + \" with dim\", df.shape)\n",
    "    if debug:\n",
    "        print(\"Our combined dataset has\", combined.shape[0], \"rows with\", combined.shape[1], \"features.\")\n",
    "    \n",
    "    if out_name != \"\":\n",
    "        if out_name.endswith(\".csv\"):\n",
    "            if os.path.exists(out_name):\n",
    "                print(\"Combined file already exists at specified output path... rename or replace it first.\")\n",
    "            else:\n",
    "                combined.to_csv(out_name, index=False)\n",
    "        else:\n",
    "            print(\"ERROR: Output filename must end in .csv\")\n",
    "    return combined\n",
    "    \n",
    "# Restriction: \"It is forbidden to use any dataset other than A, B, C, D, F, G, H, I\"\n",
    "# So, we make sure we only use these datasets in our data preparation\n",
    "\n",
    "generate_combined_dataset(\"../MLQC_HW/Data/Solubility/\",\n",
    "                          [\"dataset-H.csv\", \"dataset-I.csv\"],\n",
    "                          \"train_data_preview.csv\")\n",
    "\n",
    "generate_combined_dataset(\"../MLQC_HW/Data/Solubility/\",\n",
    "                          [\"dataset-A.csv\", \"dataset-B.csv\", \"dataset-C.csv\",\n",
    "                          \"dataset-D.csv\", \"dataset-F.csv\", \"dataset-G.csv\",\n",
    "                          \"dataset-H.csv\", \"dataset-I.csv\"], \"train_data.csv\")"
   ]
  },
  {
   "cell_type": "code",
   "execution_count": 8,
   "metadata": {},
   "outputs": [],
   "source": [
    "from rdkit import Chem\n",
    "from rdkit.Chem import AllChem\n",
    "from ase import Atoms\n",
    "from ase.io import read\n",
    "from ase.calculators.mopac import MOPAC\n",
    "\n",
    "from tqdm.notebook import tqdm_notebook\n",
    "\n",
    "# If necessary, can add a batch parameter to start at a given index and to save batches of data at intervals\n",
    "def calc_potential(from_df):\n",
    "    \n",
    "    def get_mopac(smile):\n",
    "        try:\n",
    "            # Create the rdkit molecule object in Cartesian space\n",
    "            mol = Chem.AddHs(Chem.MolFromSmiles(smile))\n",
    "            AllChem.EmbedMolecule(mol)\n",
    "\n",
    "            # Save and reload the information into a mol object from ase (instead of rdkit)\n",
    "            Chem.rdmolfiles.MolToXYZFile(mol, 'init.xyz')\n",
    "            mol = read('init.xyz')\n",
    "\n",
    "            # With this ase object, add quantum mechanic calculations\n",
    "            mol.calc = MOPAC(label='TMP', task='UHF BONDS GRADS')\n",
    "            return mol.get_potential_energy()\n",
    "        except:\n",
    "            pass\n",
    "        \n",
    "    tqdm_notebook.pandas(desc=\"Quantum Calculations for Minimum Potential Energy (Molecule Number)\")\n",
    "    \n",
    "    # Would in theory progress_apply each batch if we needed\n",
    "    \n",
    "    from_df['Min_PE'] = from_df['SMILES'].progress_apply(get_mopac)\n",
    "    return from_df\n",
    "    \n"
   ]
  },
  {
   "cell_type": "markdown",
   "metadata": {},
   "source": [
    "# CAUTION TEAM ELECTRON\n",
    "You only need to run your own code block here. I chunked it out so each of us have about an even amount of data to churn through so we can do this at 3x speed. Be advised it may take ~30 hours to go through all of this data, so for this reason I have it save to the csv file every time you complete one of the data sets. That's why there are multiple lines of calculating and saving"
   ]
  },
  {
   "cell_type": "code",
   "execution_count": 11,
   "metadata": {},
   "outputs": [],
   "source": [
    "data_path = \"../MLQC_HW/Data/Solubility/\""
   ]
  },
  {
   "cell_type": "code",
   "execution_count": 5,
   "metadata": {},
   "outputs": [
    {
     "name": "stderr",
     "output_type": "stream",
     "text": [
      "/opt/conda/lib/python3.8/site-packages/tqdm/std.py:702: FutureWarning: The Panel class is removed from pandas. Accessing it from the top-level namespace will also be removed in the next version\n",
      "  from pandas import Panel\n"
     ]
    },
    {
     "data": {
      "application/vnd.jupyter.widget-view+json": {
       "model_id": "45a80a4620884acda1a636ac86532fbd",
       "version_major": 2,
       "version_minor": 0
      },
      "text/plain": [
       "Quantum Calculations for Minimum Potential Energy (Molecule Number):   0%|          | 0/2603 [00:00<?, ?it/s]"
      ]
     },
     "metadata": {},
     "output_type": "display_data"
    }
   ],
   "source": [
    "### RJ run this ###\n",
    "\n",
    "# Will do C, D, F (I already did H and I while testing)\n",
    "\n",
    "# C\n",
    "new_df = calc_potential(pd.read_csv(data_path + \"dataset-C.csv\"))\n",
    "\n",
    "# Only keep our SMILES and Min_PE\n",
    "new_df[[\"SMILES\", \"Min_PE\"]].to_csv('Data/pe_data_C.csv', index=False)\n"
   ]
  },
  {
   "cell_type": "code",
   "execution_count": null,
   "metadata": {},
   "outputs": [
    {
     "name": "stderr",
     "output_type": "stream",
     "text": [
      "/opt/conda/lib/python3.8/site-packages/tqdm/std.py:702: FutureWarning: The Panel class is removed from pandas. Accessing it from the top-level namespace will also be removed in the next version\n",
      "  from pandas import Panel\n"
     ]
    },
    {
     "data": {
      "application/vnd.jupyter.widget-view+json": {
       "model_id": "347064ae14a348f383b36bec02757607",
       "version_major": 2,
       "version_minor": 0
      },
      "text/plain": [
       "Quantum Calculations for Minimum Potential Energy (Molecule Number):   0%|          | 0/2115 [00:00<?, ?it/s]"
      ]
     },
     "metadata": {},
     "output_type": "display_data"
    }
   ],
   "source": [
    "### RJ run this ###\n",
    "# D\n",
    "new_df = calc_potential(pd.read_csv(data_path + \"dataset-D.csv\"))\n",
    "new_df[[\"SMILES\", \"Min_PE\"]].to_csv('Data/pe_data_D.csv', index=False)"
   ]
  },
  {
   "cell_type": "code",
   "execution_count": null,
   "metadata": {},
   "outputs": [
    {
     "name": "stderr",
     "output_type": "stream",
     "text": [
      "/opt/conda/lib/python3.8/site-packages/tqdm/std.py:702: FutureWarning: The Panel class is removed from pandas. Accessing it from the top-level namespace will also be removed in the next version\n",
      "  from pandas import Panel\n"
     ]
    },
    {
     "data": {
      "application/vnd.jupyter.widget-view+json": {
       "model_id": "375ca1b09171415e9ce2fc49a60007ee",
       "version_major": 2,
       "version_minor": 0
      },
      "text/plain": [
       "Quantum Calculations for Minimum Potential Energy (Molecule Number):   0%|          | 0/1210 [00:00<?, ?it/s]"
      ]
     },
     "metadata": {},
     "output_type": "display_data"
    }
   ],
   "source": [
    "# F\n",
    "new_df = calc_potential(pd.read_csv(data_path + \"dataset-F.csv\"))\n",
    "new_df[[\"SMILES\", \"Min_PE\"]].to_csv('Data/pe_data_F.csv', index=False)"
   ]
  },
  {
   "cell_type": "code",
   "execution_count": null,
   "metadata": {},
   "outputs": [],
   "source": [
    "### RONAN RUN THIS ###\n",
    "\n",
    "# This will do the computations on dataset A\n",
    "\n",
    "# A\n",
    "new_df = calc_potential(pd.read_csv(data_path + \"dataset-A.csv\"))\n",
    "new_df[[\"SMILES\", \"Min_PE\"]].to_csv('Data/pe_data_A.csv', index=False)"
   ]
  },
  {
   "cell_type": "code",
   "execution_count": null,
   "metadata": {},
   "outputs": [],
   "source": [
    "### JOSHUA RUN THIS ###\n",
    "\n",
    "# This will do the computations on dataset B, G\n",
    "\n",
    "# B\n",
    "new_df = calc_potential(pd.read_csv(data_path + \"dataset-B.csv\"))\n",
    "new_df[[\"SMILES\", \"Min_PE\"]].to_csv('Data/pe_data_B.csv', index=False)"
   ]
  },
  {
   "cell_type": "code",
   "execution_count": null,
   "metadata": {},
   "outputs": [],
   "source": [
    "### JOSHUA RUN THIS ###\n",
    "# G\n",
    "new_df = calc_potential(pd.read_csv(data_path + \"dataset-B.csv\"))\n",
    "new_df[[\"SMILES\", \"Min_PE\"]].to_csv('Data/pe_data_G.csv', index=False)"
   ]
  }
 ],
 "metadata": {
  "kernelspec": {
   "display_name": "Python 3",
   "language": "python",
   "name": "python3"
  },
  "language_info": {
   "codemirror_mode": {
    "name": "ipython",
    "version": 3
   },
   "file_extension": ".py",
   "mimetype": "text/x-python",
   "name": "python",
   "nbconvert_exporter": "python",
   "pygments_lexer": "ipython3",
   "version": "3.8.6"
  }
 },
 "nbformat": 4,
 "nbformat_minor": 4
}
