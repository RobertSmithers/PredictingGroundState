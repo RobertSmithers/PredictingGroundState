{
 "cells": [
  {
   "cell_type": "markdown",
   "metadata": {},
   "source": [
    "### In this file, we will conduct all of our tests"
   ]
  },
  {
   "cell_type": "code",
   "execution_count": 10,
   "metadata": {},
   "outputs": [
    {
     "name": "stdout",
     "output_type": "stream",
     "text": [
      "Requirement already satisfied: nbimporter in /opt/conda/lib/python3.8/site-packages (0.3.4)\n"
     ]
    }
   ],
   "source": [
    "!pip install nbimporter"
   ]
  },
  {
   "cell_type": "code",
   "execution_count": 1,
   "metadata": {},
   "outputs": [
    {
     "name": "stderr",
     "output_type": "stream",
     "text": [
      "Using backend: pytorch\n"
     ]
    }
   ],
   "source": [
    "import pandas as pd\n",
    "import numpy as np\n",
    "import torch\n",
    "from dgl.dataloading.pytorch import GraphDataLoader\n",
    "from tqdm.notebook import tqdm\n",
    "import nbimporter\n",
    "import dataset as ds\n",
    "import model as mfile\n",
    "from score import test\n",
    "\n",
    "import os"
   ]
  },
  {
   "cell_type": "code",
   "execution_count": 2,
   "metadata": {},
   "outputs": [],
   "source": [
    "train_dataset = ds.SyntheticDataset()\n",
    "batch_size = 1\n",
    "\n",
    "# We want batch size to be 1 because do not want batched graphs (as this is not the correct structure of our individual molecules)\n",
    "train_dataloader = GraphDataLoader(train_dataset, batch_size = batch_size, shuffle = True)"
   ]
  },
  {
   "cell_type": "code",
   "execution_count": 8,
   "metadata": {},
   "outputs": [],
   "source": [
    "from sklearn.metrics import mean_absolute_error as MAE\n",
    "from os.path import exists\n",
    "\n",
    "import numpy as np\n",
    "\n",
    "def train(model, epochs, file_name='SavedModels/electron_TAG.pth', output=False, debug_batch_interval=300):\n",
    "    optimizer = torch.optim.Adam(model.parameters(),lr=0.0005)\n",
    "    \n",
    "    # Try to load best_mae\n",
    "    best_mae = None\n",
    "    if exists('SavedModels/bestmae.txt'):\n",
    "        with open('SavedModels/bestmae.txt', 'r') as f:\n",
    "            best_mae = float(f.read())\n",
    "            print(\"Looking to beat best MAE of\", best_mae)\n",
    "    \n",
    "    model.train()\n",
    "    for epoch in tqdm(range(epochs), position=0, desc=\"Epochs\"):\n",
    "        \n",
    "        running, batch_running, ct, batch_ct = 0, 0, 0, 0\n",
    "        print('Epoch', epoch+1)\n",
    "        for batch_idx, (graph, label) in tqdm(enumerate(train_dataloader), position=1, desc=\"Batches\", total=len(train_dataloader) * batch_size):\n",
    "            # Some labels may be none (RDKit errors), so move on\n",
    "            # Ideally this has been filtered out by this step, but as of now there are still some in the dataset\n",
    "            if np.isnan(label):\n",
    "                continue\n",
    "            \n",
    "            optimizer.zero_grad()\n",
    "\n",
    "            bf = graph.edata['bond_feats'].float()\n",
    "            af = graph.ndata['atom_feats'].float()\n",
    "            \n",
    "            # Not sure about an error we are experiencing. This is occurring towards the end, so we will just ignore this 1/1000 sample\n",
    "            try:\n",
    "                y_pred = model(graph, af, bf)\n",
    "            except:\n",
    "                continue\n",
    "            \n",
    "            # The 23.06 is the same value used in score.py (conversion to kcal/mol)\n",
    "            # L1 is MAE, L2 is MSE\n",
    "            loss = torch.nn.functional.l1_loss(y_pred.reshape(1), label) * 23.06 # ((y_pred.reshape(1,-1) - batch_y)**2).sum()\n",
    "            running += loss.item()\n",
    "            batch_running += loss.item()\n",
    "            ct += 1\n",
    "            batch_ct += 1\n",
    "            loss.backward()\n",
    "            optimizer.step()\n",
    "            \n",
    "            if np.isnan(running) or np.isnan(batch_running):\n",
    "                print(\"Something went wrong. ABORT! DEBUG INFO:\\n\")\n",
    "                print(\"run, ct\", running, ct)\n",
    "                print(\"batch_run, batch_ct\", batch_running, batch_ct)\n",
    "                print(\"label at this value is\", label)\n",
    "                print(\"pred is\", y_pred)\n",
    "                raise ValueError(\"NaN output\")\n",
    "                return\n",
    "                     \n",
    "            # Every debug_batch_interval iterations, print the data we've churned through (iterations * data per batch)\n",
    "            if output and batch_idx % (len(train_dataloader) // debug_batch_interval) == 0:                \n",
    "                print('Epoch: {} [{}/{} ({:.0f}%)]\\tBatch Loss: {:.2f}\\tEpoch Loss: {:.2f}'.format(\n",
    "                          epoch+1, batch_idx, len(train_dataloader) * batch_size,    # current sample num / total num\n",
    "                          100. * batch_idx / len(train_dataloader), # this batch num's % of total dataset\n",
    "                          batch_running // batch_ct, # the loss for this batch\n",
    "                          running // ct) # running loss for the epoch\n",
    "                     )\n",
    "                batch_running, batch_ct = 0, 0\n",
    "                \n",
    "        this_loss = running / ct\n",
    "        if output:\n",
    "            print(\"\\nAverage Loss:\", round(running / ct * 100) / 100.0,\"\\n\")\n",
    "        else:\n",
    "            print(\"Epoch\", epoch+1, \"Average Loss:\", round(this_loss * 100) / 100.0)\n",
    "            \n",
    "        # Save our model\n",
    "        if not best_mae:\n",
    "            best_mae = this_loss\n",
    "            checkpoint = {'state_dict': model.state_dict(),'optimizer': optimizer.state_dict()}\n",
    "            torch.save(checkpoint, file_name)\n",
    "        if this_loss < best_mae:\n",
    "            best_mae = this_loss\n",
    "            print(\"New best model found! Saving with loss of\", best_mae)\n",
    "            \n",
    "            # Write our best mae so we can keep track every time we retrain\n",
    "            with open('SavedModels/bestmae.txt', 'w') as f:\n",
    "                f.write(str(best_mae))\n",
    "            checkpoint = {'state_dict': model.state_dict(),'optimizer': optimizer.state_dict()}\n",
    "            torch.save(checkpoint, file_name)"
   ]
  },
  {
   "cell_type": "markdown",
   "metadata": {},
   "source": [
    "#### Create and Train Model"
   ]
  },
  {
   "cell_type": "code",
   "execution_count": 4,
   "metadata": {},
   "outputs": [
    {
     "name": "stdout",
     "output_type": "stream",
     "text": [
      "Dimensions: 6 (node), 5 (edge)\n"
     ]
    }
   ],
   "source": [
    "# All graphs in the list have the same scheme size, so pull the dimensions from the first\n",
    "node_dim = train_dataset[0][0].ndata['atom_feats'].shape[1]\n",
    "edge_dim = train_dataset[0][0].edata['bond_feats'].shape[1]\n",
    "print(\"Dimensions:\", node_dim, \"(node),\", edge_dim, \"(edge)\")"
   ]
  },
  {
   "cell_type": "code",
   "execution_count": 5,
   "metadata": {},
   "outputs": [],
   "source": [
    "import dgllife\n",
    "model = mfile.MPNNPredictor(node_dim, edge_dim)\n",
    "# model = mfile.Electron_MPNN(node_dim, edge_dim)\n",
    "# Attempt to load model if electron_mpnn.pth exists (check with os)"
   ]
  },
  {
   "cell_type": "markdown",
   "metadata": {},
   "source": [
    "#### Our Model"
   ]
  },
  {
   "cell_type": "markdown",
   "metadata": {},
   "source": [
    "Basic Description: \\\n",
    "Our model follows a similar architecture as the MPNN model. It consists of a two linear layers (one at the front, one at the end), a convolution layer, and a GRU layer.\n",
    "\n",
    "- **fc1**: This linear + relu is our first \"line of attack,\" looking for connectings between our data before we lose information on individual atoms via convolution\n",
    "- **gnn1**: This layer uses convolution involving two hidden layers to try and grab information about neighbors in an efficient manner\n",
    "- **gru**: To be completely honest, I am not entirely sure I understand GRUs. My only understanding of it is that it serves to eliminate the issue of the vanishing gradient which we could expect to stumble upon after our fc1 and gnn layers. We are experimented with getting rid of it, and we saw that convergence was decelerating quicker than with it... so we keep it!\n",
    "- **gnn2**: This layer is a different flavor of graph convolution. The GatedGraphConv was referenced in the paper on MPNNs (https://arxiv.org/pdf/1704.01212.pdf) before they switched to NNConv. Ignoring the time complexity issues (which we serve to rectify by eliminating many of our useless features (quick side note, we also did a bit of \"brain-surgery\" on our network to try to trace the least important features)), GGC had some positives to it. I figure that reintroducing it after an NNConv might provide another, differing convolution which could be a valuable composition to feed to our readout and prediction functions.\n",
    "- **gru**: Reusing the same GRU layer before, keeps the gradient after gnn2\n",
    "- ~~**fc2**: This fully-connected layer serves as our final decision maker, projecting back into 1 dimension (granted there is only 1 dimension at this point anyways) and trying to making sense of the previously convoluted data~~ Removed this as of 13 Nov 21 since we incorporated the MPNN readout and prediction which perform much better. Also an fc2 at the end caused a linear regression on the entire thing and caused the model to predict the average output pe\n",
    "\n",
    "The first investigation into our important modifications of this model which differentiates it from the MPNN model stems from the negative min_PE output labels. To combat our model giving large error from positive results, many Relu's were stripped from the model, both in the architecture itself and in the forward passes. I experimented with a linear \"decision\" layer at the very end, but this caused the model to try to make an approximation of the output labels which would end up with the average of the output labels (minimizing error with a constant). As you can imagine, this is unideal, so we ended up scrapping this idea. I also later realized that a prediction layer with negative weights could easily bypass this entire concern.\n",
    "\n",
    "Training Description: \\\n",
    "To train, I have found that after about 8 epochs, the model begins to stablize. So, the training scheme is planned as follows:\n",
    "\n",
    "- 3 epochs w/ Adam opt @ 0.1\n",
    "- 3 epochs w/ Adam opt @ 0.01\n",
    "\n",
    "This is to help refine the smaller details of the gradient with respect to the weights in our model. This is essentially our own version of momentum because we try to have the model drop mae rather quickly, and then be refined with minute changes in our network."
   ]
  },
  {
   "cell_type": "code",
   "execution_count": 6,
   "metadata": {},
   "outputs": [
    {
     "name": "stdout",
     "output_type": "stream",
     "text": [
      "MPNNPredictor(\n",
      "  (gnn): Electron_MPNN(\n",
      "    (fc1): Sequential(\n",
      "      (0): Linear(in_features=6, out_features=128, bias=True)\n",
      "      (1): ReLU()\n",
      "    )\n",
      "    (gnn1): NNConv(\n",
      "      (edge_func): Sequential(\n",
      "        (0): Linear(in_features=5, out_features=256, bias=True)\n",
      "        (1): ReLU()\n",
      "        (2): Linear(in_features=256, out_features=16384, bias=True)\n",
      "      )\n",
      "    )\n",
      "    (gnn2): GatedGraphConv(\n",
      "      (linears): ModuleList(\n",
      "        (0): Linear(in_features=128, out_features=128, bias=True)\n",
      "        (1): Linear(in_features=128, out_features=128, bias=True)\n",
      "        (2): Linear(in_features=128, out_features=128, bias=True)\n",
      "        (3): Linear(in_features=128, out_features=128, bias=True)\n",
      "        (4): Linear(in_features=128, out_features=128, bias=True)\n",
      "      )\n",
      "      (gru): GRUCell(128, 128)\n",
      "    )\n",
      "    (gru): GRU(128, 128)\n",
      "  )\n",
      "  (readout): Set2Set(\n",
      "    n_iters=6\n",
      "    (lstm): LSTM(256, 128, num_layers=3)\n",
      "  )\n",
      "  (predict): Sequential(\n",
      "    (0): Linear(in_features=256, out_features=128, bias=True)\n",
      "    (1): ReLU()\n",
      "    (2): Linear(in_features=128, out_features=1, bias=True)\n",
      "  )\n",
      ")\n"
     ]
    }
   ],
   "source": [
    "print(model)"
   ]
  },
  {
   "cell_type": "code",
   "execution_count": null,
   "metadata": {},
   "outputs": [
    {
     "name": "stdout",
     "output_type": "stream",
     "text": [
      "Looking to beat best MAE of 11490.814183533093\n"
     ]
    },
    {
     "data": {
      "application/vnd.jupyter.widget-view+json": {
       "model_id": "9a1d0ec148b547368830df2d00bc3fdb",
       "version_major": 2,
       "version_minor": 0
      },
      "text/plain": [
       "Epochs:   0%|          | 0/1 [00:00<?, ?it/s]"
      ]
     },
     "metadata": {},
     "output_type": "display_data"
    },
    {
     "name": "stdout",
     "output_type": "stream",
     "text": [
      "Epoch 1\n"
     ]
    },
    {
     "data": {
      "application/vnd.jupyter.widget-view+json": {
       "model_id": "4d78ff23993c4c858cbe80d0f044fdea",
       "version_major": 2,
       "version_minor": 0
      },
      "text/plain": [
       "Batches:   0%|          | 0/13480 [00:00<?, ?it/s]"
      ]
     },
     "metadata": {},
     "output_type": "display_data"
    },
    {
     "name": "stdout",
     "output_type": "stream",
     "text": [
      "Epoch: 1 [0/13480 (0%)]\tBatch Loss: 13862.00\tEpoch Loss: 13862.00\n",
      "Epoch: 1 [44/13480 (0%)]\tBatch Loss: 17260.00\tEpoch Loss: 17185.00\n",
      "Epoch: 1 [88/13480 (1%)]\tBatch Loss: 20802.00\tEpoch Loss: 18973.00\n",
      "Epoch: 1 [132/13480 (1%)]\tBatch Loss: 15844.00\tEpoch Loss: 17954.00\n",
      "Epoch: 1 [176/13480 (1%)]\tBatch Loss: 23734.00\tEpoch Loss: 19399.00\n",
      "Epoch: 1 [220/13480 (2%)]\tBatch Loss: 19474.00\tEpoch Loss: 19414.00\n",
      "Epoch: 1 [264/13480 (2%)]\tBatch Loss: 25167.00\tEpoch Loss: 20373.00\n",
      "Epoch: 1 [308/13480 (2%)]\tBatch Loss: 18893.00\tEpoch Loss: 20161.00\n",
      "Epoch: 1 [352/13480 (3%)]\tBatch Loss: 17472.00\tEpoch Loss: 19825.00\n",
      "Epoch: 1 [396/13480 (3%)]\tBatch Loss: 18493.00\tEpoch Loss: 19677.00\n",
      "Epoch: 1 [440/13480 (3%)]\tBatch Loss: 20690.00\tEpoch Loss: 19778.00\n",
      "Epoch: 1 [484/13480 (4%)]\tBatch Loss: 20696.00\tEpoch Loss: 19862.00\n",
      "Epoch: 1 [528/13480 (4%)]\tBatch Loss: 17095.00\tEpoch Loss: 19631.00\n",
      "Epoch: 1 [572/13480 (4%)]\tBatch Loss: 23716.00\tEpoch Loss: 19945.00\n",
      "Epoch: 1 [616/13480 (5%)]\tBatch Loss: 17882.00\tEpoch Loss: 19801.00\n",
      "Epoch: 1 [660/13480 (5%)]\tBatch Loss: 14813.00\tEpoch Loss: 19468.00\n",
      "Epoch: 1 [704/13480 (5%)]\tBatch Loss: 20880.00\tEpoch Loss: 19557.00\n",
      "Epoch: 1 [748/13480 (6%)]\tBatch Loss: 21119.00\tEpoch Loss: 19649.00\n",
      "Epoch: 1 [792/13480 (6%)]\tBatch Loss: 17189.00\tEpoch Loss: 19515.00\n",
      "Epoch: 1 [836/13480 (6%)]\tBatch Loss: 24176.00\tEpoch Loss: 19761.00\n",
      "Epoch: 1 [880/13480 (7%)]\tBatch Loss: 14645.00\tEpoch Loss: 19504.00\n"
     ]
    }
   ],
   "source": [
    "train(model, 1, output=True)"
   ]
  },
  {
   "cell_type": "code",
   "execution_count": 7,
   "metadata": {},
   "outputs": [
    {
     "name": "stdout",
     "output_type": "stream",
     "text": [
      "64 5\n"
     ]
    },
    {
     "data": {
      "text/plain": [
       "<All keys matched successfully>"
      ]
     },
     "execution_count": 7,
     "metadata": {},
     "output_type": "execute_result"
    }
   ],
   "source": [
    "model = mfile.MPNNPredictor(node_dim, edge_dim)\n",
    "model.load_state_dict(torch.load(\"SavedModels/20k_custom_mpnn.pth\")[\"state_dict\"])"
   ]
  },
  {
   "cell_type": "code",
   "execution_count": null,
   "metadata": {},
   "outputs": [],
   "source": []
  },
  {
   "cell_type": "markdown",
   "metadata": {},
   "source": [
    "Test to keep jupyterlab running even when computer dies/goes to sleep"
   ]
  },
  {
   "cell_type": "code",
   "execution_count": 1,
   "metadata": {},
   "outputs": [],
   "source": [
    "# %%capture stored_output\n",
    "\n",
    "# Upon returning, call\n",
    "# stored_output.show()"
   ]
  },
  {
   "cell_type": "code",
   "execution_count": null,
   "metadata": {},
   "outputs": [],
   "source": [
    "# Output for train on MPNN prebuilt\n",
    "'''\n",
    "Epoch: 1 [0/13480 (0%)]\tBatch Loss: 15816.00\tEpoch Loss: 15816.00\n",
    "Epoch: 1 [1348/13480 (10%)]\tBatch Loss: 21889.00\tEpoch Loss: 21884.00\n",
    "Epoch: 1 [2696/13480 (20%)]\tBatch Loss: 21315.00\tEpoch Loss: 21600.00\n",
    "Epoch: 1 [4044/13480 (30%)]\tBatch Loss: 20245.00\tEpoch Loss: 21148.00\n",
    "Epoch: 1 [5392/13480 (40%)]\tBatch Loss: 18982.00\tEpoch Loss: 20607.0\n",
    "'''\n",
    "\n",
    "# Output for train on custom MPNN model (note I upped the log interval... so this 29k error is with only 132 samples)\n",
    "'''\n",
    "Epoch: 1 [0/13480 (0%)]\tBatch Loss: 36117.00\tEpoch Loss: 36117.00\n",
    "Epoch: 1 [44/13480 (0%)]\tBatch Loss: 43399.00\tEpoch Loss: 43237.00\n",
    "Epoch: 1 [88/13480 (1%)]\tBatch Loss: 22759.00\tEpoch Loss: 33113.00\n",
    "Epoch: 1 [132/13480 (1%)]\tBatch Loss: 20600.00\tEpoch Loss: 28974.00\n",
    "'''"
   ]
  },
  {
   "cell_type": "markdown",
   "metadata": {},
   "source": [
    "### NOTE TO RONAN \n",
    "Save model with code below (keep in mind auto-saving only happens when an epoch completes (and if the loss is below our minimum loss of any model)"
   ]
  },
  {
   "cell_type": "code",
   "execution_count": 11,
   "metadata": {},
   "outputs": [],
   "source": [
    "checkpoint = {'state_dict': model.state_dict()}\n",
    "torch.save(checkpoint, \"SavedModels/20k_custom_mpnn.pth\")"
   ]
  },
  {
   "cell_type": "code",
   "execution_count": 8,
   "metadata": {},
   "outputs": [
    {
     "name": "stdout",
     "output_type": "stream",
     "text": [
      "0 / 1291\n",
      "20 / 1291\n",
      "40 / 1291\n",
      "60 / 1291\n",
      "80 / 1291\n",
      "100 / 1291\n",
      "120 / 1291\n",
      "140 / 1291\n",
      "160 / 1291\n",
      "180 / 1291\n",
      "200 / 1291\n",
      "220 / 1291\n",
      "240 / 1291\n",
      "260 / 1291\n",
      "280 / 1291\n",
      "300 / 1291\n",
      "320 / 1291\n",
      "340 / 1291\n",
      "360 / 1291\n",
      "380 / 1291\n",
      "400 / 1291\n",
      "420 / 1291\n",
      "440 / 1291\n",
      "460 / 1291\n",
      "480 / 1291\n",
      "500 / 1291\n",
      "520 / 1291\n",
      "540 / 1291\n",
      "560 / 1291\n",
      "580 / 1291\n",
      "600 / 1291\n",
      "620 / 1291\n",
      "640 / 1291\n",
      "660 / 1291\n",
      "680 / 1291\n",
      "700 / 1291\n",
      "720 / 1291\n",
      "740 / 1291\n",
      "760 / 1291\n",
      "780 / 1291\n",
      "800 / 1291\n",
      "820 / 1291\n",
      "840 / 1291\n",
      "860 / 1291\n",
      "880 / 1291\n",
      "900 / 1291\n",
      "920 / 1291\n",
      "940 / 1291\n",
      "960 / 1291\n",
      "980 / 1291\n",
      "1000 / 1291\n",
      "1020 / 1291\n",
      "1040 / 1291\n",
      "1060 / 1291\n",
      "1080 / 1291\n",
      "1100 / 1291\n",
      "1120 / 1291\n",
      "1140 / 1291\n",
      "1160 / 1291\n",
      "1180 / 1291\n",
      "1200 / 1291\n",
      "1220 / 1291\n",
      "1240 / 1291\n",
      "1260 / 1291\n",
      "1280 / 1291\n"
     ]
    },
    {
     "data": {
      "text/plain": [
       "20628.016402885405"
      ]
     },
     "execution_count": 8,
     "metadata": {},
     "output_type": "execute_result"
    }
   ],
   "source": [
    "test(model, \"Electron\")"
   ]
  },
  {
   "cell_type": "code",
   "execution_count": null,
   "metadata": {},
   "outputs": [],
   "source": [
    "print(\"Done\")"
   ]
  },
  {
   "cell_type": "code",
   "execution_count": null,
   "metadata": {},
   "outputs": [],
   "source": []
  },
  {
   "cell_type": "code",
   "execution_count": null,
   "metadata": {},
   "outputs": [],
   "source": []
  },
  {
   "cell_type": "code",
   "execution_count": null,
   "metadata": {},
   "outputs": [],
   "source": []
  },
  {
   "cell_type": "code",
   "execution_count": null,
   "metadata": {},
   "outputs": [],
   "source": []
  },
  {
   "cell_type": "code",
   "execution_count": null,
   "metadata": {},
   "outputs": [],
   "source": []
  },
  {
   "cell_type": "code",
   "execution_count": null,
   "metadata": {},
   "outputs": [],
   "source": []
  },
  {
   "cell_type": "code",
   "execution_count": null,
   "metadata": {},
   "outputs": [],
   "source": []
  },
  {
   "cell_type": "code",
   "execution_count": 15,
   "metadata": {},
   "outputs": [
    {
     "name": "stdout",
     "output_type": "stream",
     "text": [
      "hi\n"
     ]
    }
   ],
   "source": [
    "# checkpoint = {'state_dict': model.state_dict()}\n",
    "# torch.save(checkpoint, \"electron_mpnn_no_ReLU.pth\")"
   ]
  },
  {
   "cell_type": "markdown",
   "metadata": {},
   "source": [
    "### Load best model"
   ]
  },
  {
   "cell_type": "code",
   "execution_count": 5,
   "metadata": {},
   "outputs": [
    {
     "data": {
      "text/plain": [
       "<All keys matched successfully>"
      ]
     },
     "execution_count": 5,
     "metadata": {},
     "output_type": "execute_result"
    }
   ],
   "source": [
    "best_model = mfile.Electron_MPNN(node_dim, edge_dim, out_dim=1)\n",
    "best_model.load_state_dict(torch.load(\"electron_mpnn_v1_ReLU.pth\")[\"state_dict\"])"
   ]
  },
  {
   "cell_type": "code",
   "execution_count": 43,
   "metadata": {},
   "outputs": [
    {
     "data": {
      "text/plain": [
       "Parameter containing:\n",
       "tensor([[1458.2877]], requires_grad=True)"
      ]
     },
     "execution_count": 43,
     "metadata": {},
     "output_type": "execute_result"
    }
   ],
   "source": [
    "best_model.fc2.weight"
   ]
  },
  {
   "cell_type": "markdown",
   "metadata": {},
   "source": [
    "# Sources and References"
   ]
  },
  {
   "cell_type": "markdown",
   "metadata": {},
   "source": [
    "1. https://arxiv.org/pdf/1704.01212.pdf\n",
    "2. https://arxiv.org/pdf/1806.03146.pdf\n",
    "3. https://chemrxiv.org/engage/api-gateway/chemrxiv/assets/orp/resource/item/60c7579dbb8c1a48b63dc892/original/a-graph-neural-network-for-predicting-energy-and-stability-of-known-and-hypothetical-crystal-structures.pdf#page=11&zoom=100,76,125\n",
    "4. "
   ]
  },
  {
   "cell_type": "code",
   "execution_count": null,
   "metadata": {},
   "outputs": [],
   "source": []
  }
 ],
 "metadata": {
  "kernelspec": {
   "display_name": "Python 3",
   "language": "python",
   "name": "python3"
  },
  "language_info": {
   "codemirror_mode": {
    "name": "ipython",
    "version": 3
   },
   "file_extension": ".py",
   "mimetype": "text/x-python",
   "name": "python",
   "nbconvert_exporter": "python",
   "pygments_lexer": "ipython3",
   "version": "3.8.6"
  }
 },
 "nbformat": 4,
 "nbformat_minor": 4
}
