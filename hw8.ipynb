{
 "cells": [
  {
   "cell_type": "markdown",
   "metadata": {},
   "source": [
    "# Homework 8: Predicting Ground State Energy"
   ]
  },
  {
   "cell_type": "markdown",
   "metadata": {},
   "source": [
    "In this homework, your goal is to predict the energy of the ground state of a molecule, and to reach to lowest possible error on the test set. You must report your score on a scoreboard:"
   ]
  },
  {
   "cell_type": "markdown",
   "metadata": {},
   "source": [
    "https://keepthescore.co/board/ffirhduscve/"
   ]
  },
  {
   "cell_type": "markdown",
   "metadata": {},
   "source": [
    "For this homework, you will use a library called score, which provides you with 1 function. \n",
    "<ul> \n",
    "    <li> test(features,model): features should be a list of mordred features. model should be a scikit learn estimator. return the mean average error on the test set.\n",
    "</ul>\n",
    "At the end of this notebook, you will find an example on how to define a model and test it. You should use datasets A, B, C, D, F, G, H, I for your work. You are encouraged to use multiple datasets!<br>\n",
    "One final note: your position on the scoreboard does matter. If you are doing much worse than your peers, you can expect to receive fewer points. "
   ]
  },
  {
   "cell_type": "code",
   "execution_count": 1,
   "metadata": {},
   "outputs": [],
   "source": [
    "from score import test"
   ]
  },
  {
   "cell_type": "markdown",
   "metadata": {},
   "source": [
    "**Rules**:<br>\n",
    "<ul>\n",
    "    <li> It is forbidden to modify the score library;\n",
    "    <li> It is forbidden to import any other function from the score library;\n",
    "    <li> It is forbidden to use dataset E;\n",
    "    <li> It is forbidden to use any dataset other than A, B, C, D, F, G, H, I;\n",
    "    <li> It is forbidden to use features others than the ones computed from mordred;\n",
    "    <li> You can use any number of features, however, at the end, you will need to provide a brief (and vague) explanation of what your features are doing.\n",
    "    <li> You can use anything you want for modeling, including all the tools available in pytorch, and you can even use other machine libraries if you wish;\n",
    "    <li> It is forbidden to modify the scoreboard page (be careful, you all have admin access to it).\n",
    "</ul>\n",
    "It is very easy to cheat and I rely on your integrity to participate in good faith. If you are caught cheating, you will get 0 for the assignment. "
   ]
  },
  {
   "cell_type": "markdown",
   "metadata": {},
   "source": [
    "## Some advice"
   ]
  },
  {
   "cell_type": "markdown",
   "metadata": {},
   "source": [
    "<ul>\n",
    "<li> For this project, you will have to work using several notebooks.\n",
    "<li> You should start by writing a notebook to create the dataset. Note that if you use many molecules, using MOPAC could take a while. If you decide to optimize the geometry of all the molecules in the Solubility datasets, ot will take at least 12 hours. Make sure to save the result so that you don't have to compute it multiple times!\n",
    "<li> You should probably have another separate notebook that creates the graph version of the dataset. Again, you should save the data, and for this make use to use the save_graph and load_graph functions of DGL.\n",
    "<li> Finally, you should have at least one notebook where you define and train your notebook.\n",
    "<li> As an example, my Reference submission was defined using 5 notebooks...\n",
    "</ul>"
   ]
  },
  {
   "cell_type": "markdown",
   "metadata": {},
   "source": [
    "## Example"
   ]
  },
  {
   "cell_type": "code",
   "execution_count": 2,
   "metadata": {},
   "outputs": [],
   "source": [
    "import numpy as np\n",
    "from sklearn.dummy import DummyRegressor"
   ]
  },
  {
   "cell_type": "code",
   "execution_count": 3,
   "metadata": {},
   "outputs": [],
   "source": [
    "def dummy_E0():\n",
    "    model = DummyRegressor()\n",
    "    model.fit(None,np.array([42]))\n",
    "    return lambda smiles: model.predict(smiles)"
   ]
  },
  {
   "cell_type": "code",
   "execution_count": 5,
   "metadata": {},
   "outputs": [
    {
     "name": "stdout",
     "output_type": "stream",
     "text": [
      "Your score is worse than your previous best score, it will not be reported.\n"
     ]
    },
    {
     "data": {
      "text/plain": [
       "52101.286045329194"
      ]
     },
     "execution_count": 5,
     "metadata": {},
     "output_type": "execute_result"
    }
   ],
   "source": [
    "test(dummy_E0(),'Reference')"
   ]
  },
  {
   "cell_type": "markdown",
   "metadata": {},
   "source": [
    "## Your turn"
   ]
  },
  {
   "cell_type": "markdown",
   "metadata": {},
   "source": [
    "Structure determines property\n",
    "\n",
    "Spatial arrangement of nuclei is important\n",
    "Other important factors:\n",
    "  energy\n",
    "  forces ating on neclei\n",
    "  bonds\n",
    "  \n",
    "Potential Energy Surface\n",
    "    R^(3N) --> R\n",
    "    \n",
    "**What will be the geometry of X (say, CH3) that will minimize its energy (use potential energy surface)?**\n",
    "\n",
    "Problem: Predict ground state energy of a molecule given the formula (assuming it's in that lowest energy state defined above) (I think we need to compute this)\n",
    "\n",
    "1. Data\n",
    "2. Graph it\n",
    "3. Use quantum mechanics (find structure that will minimize energy... and what is this energy) (You can find this on each of the datasets using a third party software... ~13 hours (excluding dataset A)\n",
    "4. Using graph neural networks, feed this data and then it can predict it\n",
    "\n",
    "\n"
   ]
  },
  {
   "cell_type": "code",
   "execution_count": 1,
   "metadata": {},
   "outputs": [],
   "source": [
    "from rdkit import Chem\n",
    "from rdkit.Chem import AllChem\n",
    "from ase import Atoms\n",
    "from ase.io import read\n",
    "from ase.calculators.mopac import MOPAC\n"
   ]
  },
  {
   "cell_type": "code",
   "execution_count": 2,
   "metadata": {},
   "outputs": [],
   "source": [
    "mol = Chem.MolFromSmiles('C=C')"
   ]
  },
  {
   "cell_type": "code",
   "execution_count": 3,
   "metadata": {},
   "outputs": [],
   "source": [
    "mol = Chem.AddHs(mol)"
   ]
  },
  {
   "cell_type": "code",
   "execution_count": 4,
   "metadata": {},
   "outputs": [
    {
     "data": {
      "image/png": "[encoded data removed]",
      "text/plain": [
       "<rdkit.Chem.rdchem.Mol at 0x7f21fbb34b70>"
      ]
     },
     "execution_count": 4,
     "metadata": {},
     "output_type": "execute_result"
    }
   ],
   "source": [
    "mol"
   ]
  },
  {
   "cell_type": "code",
   "execution_count": 5,
   "metadata": {},
   "outputs": [
    {
     "data": {
      "text/plain": [
       "0"
      ]
     },
     "execution_count": 5,
     "metadata": {},
     "output_type": "execute_result"
    }
   ],
   "source": [
    "# Create a geometry for this molecule (there can be many different geometries) in cartesian space\n",
    "AllChem.EmbedMolecule(mol)"
   ]
  },
  {
   "cell_type": "code",
   "execution_count": 6,
   "metadata": {},
   "outputs": [],
   "source": [
    "Chem.rdmolfiles.MolToXYZFile(mol, 'foo.xyz')"
   ]
  },
  {
   "cell_type": "code",
   "execution_count": 9,
   "metadata": {},
   "outputs": [
    {
     "name": "stdout",
     "output_type": "stream",
     "text": [
      "6\n",
      "\n",
      "C     -0.616724    0.034582    0.199602\n",
      "C      0.635136   -0.033876   -0.205262\n",
      "H     -1.215479   -0.877337    0.227547\n",
      "H     -1.027850    0.994077    0.496922\n",
      "H      1.018489   -0.997941   -0.494664\n",
      "H      1.206427    0.880496   -0.224144\n"
     ]
    }
   ],
   "source": [
    "for l in open('foo.xyz'):\n",
    "    print(l, end='')"
   ]
  },
  {
   "cell_type": "code",
   "execution_count": 10,
   "metadata": {},
   "outputs": [],
   "source": [
    "mol = read('foo.xyz')"
   ]
  },
  {
   "cell_type": "code",
   "execution_count": 11,
   "metadata": {},
   "outputs": [
    {
     "data": {
      "text/plain": [
       "Atoms(symbols='C2H4', pbc=False)"
      ]
     },
     "execution_count": 11,
     "metadata": {},
     "output_type": "execute_result"
    }
   ],
   "source": [
    "mol"
   ]
  },
  {
   "cell_type": "code",
   "execution_count": 12,
   "metadata": {},
   "outputs": [
    {
     "data": {
      "text/plain": [
       "array([[-0.616724,  0.034582,  0.199602],\n",
       "       [ 0.635136, -0.033876, -0.205262],\n",
       "       [-1.215479, -0.877337,  0.227547],\n",
       "       [-1.02785 ,  0.994077,  0.496922],\n",
       "       [ 1.018489, -0.997941, -0.494664],\n",
       "       [ 1.206427,  0.880496, -0.224144]])"
      ]
     },
     "execution_count": 12,
     "metadata": {},
     "output_type": "execute_result"
    }
   ],
   "source": [
    "mol.get_positions()"
   ]
  },
  {
   "cell_type": "code",
   "execution_count": 13,
   "metadata": {},
   "outputs": [],
   "source": [
    "# Attach quantum calculation to the molecule itself\n",
    "mol.calc = MOPAC(label='TMP', task='1SCF UHF BONDS GRADS')\n",
    "\n",
    "# label = Just a name to keep track of\n",
    "# task = If that keyword is there, it will not try to optimize the molecule and find the ground state\n",
    "# task is case sensitive and are space separated commands\n",
    "\n",
    "# 1SCF only (stop there)\n"
   ]
  },
  {
   "cell_type": "code",
   "execution_count": 14,
   "metadata": {},
   "outputs": [
    {
     "data": {
      "text/plain": [
       "-298.76061"
      ]
     },
     "execution_count": 14,
     "metadata": {},
     "output_type": "execute_result"
    }
   ],
   "source": [
    "# This is our spot in the graph, the potential energy for this structure. We want to minimize this number\n",
    "mol.get_potential_energy()\n",
    "\n",
    "# Note: This is measured in electron volts"
   ]
  },
  {
   "cell_type": "code",
   "execution_count": 15,
   "metadata": {},
   "outputs": [],
   "source": [
    "# Can also get total energy and electronic energy\n",
    "# The forces are minus of the gradient\n",
    "# We don't know the total potential energy surface, only the given point\n",
    "# So, we find this minimum with conservation of energy (can figure out what the gradient of the bhs? is)\n",
    "# Can apply gradient descent on potential energy surface to find interesting points\n",
    "# Look at second order derivatives to see if found ground zero. Should be 0\n",
    "# For now, this library does this for us automatically? Uses Hellmann Feynman\n",
    "\n",
    "# No such thing as a bond, it can actually be computed. This software can show us this with valencies and bond orders\n",
    "# Tells us that the Carbon atom has sharing of energy with second carbon atom and the energy sharing with it\n",
    "# 0.5-1.5 is a single bond, 1.5 - 2.5 is a double bond"
   ]
  },
  {
   "cell_type": "code",
   "execution_count": 16,
   "metadata": {},
   "outputs": [],
   "source": [
    "# Automatically optimize molecule\n",
    "mol.calc = MOPAC(label='TMP', task='UHF BONDS GRADS')\n",
    "\n",
    "# Removing 1SCF\n"
   ]
  },
  {
   "cell_type": "code",
   "execution_count": 18,
   "metadata": {},
   "outputs": [
    {
     "data": {
      "text/plain": [
       "-298.91783"
      ]
     },
     "execution_count": 18,
     "metadata": {},
     "output_type": "execute_result"
    }
   ],
   "source": [
    "mol.get_potential_energy() # Cubic in number of atoms. COSTLY (but this is why ML is so useful in chemistry)"
   ]
  },
  {
   "cell_type": "code",
   "execution_count": 19,
   "metadata": {},
   "outputs": [],
   "source": [
    "# To be quicker, optimize with force field from RDKit before dumping the positions, then MOPAC will be quicker"
   ]
  },
  {
   "cell_type": "code",
   "execution_count": null,
   "metadata": {},
   "outputs": [],
   "source": [
    "# Optimization uses time independent electronic Shrodinger equation for hte molecular hamiltonian\n",
    "# If solved, could invent vaccines, would solve environmental issues, etc. **Insanely difficult**\n",
    "\n",
    "# What is Molecular Hamiltonian?\n",
    "# F = ma (potential plus kinetic energy of the molecule)\n",
    "# Kinetic energy of molecule is\n",
    "#    kinetic of nuclei (Tn) with some plank constant in there + same for electrons (Te) + potential energy\n",
    "#    Tn + Te + Uee (electron repulse) + Unn (nuclei repulse) + Une (nuclei electron attract)\n",
    "\n",
    "# Wave function W (Goes from R(3N + 3E) --> C, the complex numbers)\n",
    "# This will describe the state of our molecules \n",
    "# Complex norm of this |W(x)|^2 will be a probability density function\n",
    "# ih dW(x, t) / dt = H W(x, t)"
   ]
  }
 ],
 "metadata": {
  "kernelspec": {
   "display_name": "Python 3",
   "language": "python",
   "name": "python3"
  },
  "language_info": {
   "codemirror_mode": {
    "name": "ipython",
    "version": 3
   },
   "file_extension": ".py",
   "mimetype": "text/x-python",
   "name": "python",
   "nbconvert_exporter": "python",
   "pygments_lexer": "ipython3",
   "version": "3.8.6"
  }
 },
 "nbformat": 4,
 "nbformat_minor": 4
}
