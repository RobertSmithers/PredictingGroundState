{
 "cells": [
  {
   "cell_type": "markdown",
   "metadata": {},
   "source": [
    "### In this file, we will reconstruct our data into graphs"
   ]
  },
  {
   "cell_type": "markdown",
   "metadata": {},
   "source": [
    "Instructions: You should probably have another separate notebook that creates the graph version of the dataset. Again, you should save the data, and for this make use to use the save_graph and load_graph functions of DGL.\n",
    "\n",
    "Important Libraries:\n",
    "ase\n",
    "Structure/Geometry of a molecule"
   ]
  },
  {
   "cell_type": "code",
   "execution_count": 2,
   "metadata": {},
   "outputs": [
    {
     "name": "stderr",
     "output_type": "stream",
     "text": [
      "Using backend: pytorch\n"
     ]
    }
   ],
   "source": [
    "import pandas as pd\n",
    "import torch\n",
    "from rdkit import Chem\n",
    "from dgllife.utils import smiles_to_bigraph\n",
    "from dgl.data.utils import save_graphs, load_graphs"
   ]
  },
  {
   "cell_type": "code",
   "execution_count": 3,
   "metadata": {},
   "outputs": [],
   "source": [
    "def featurize_atoms(mol):\n",
    "    feats = []\n",
    "    for atom in mol.GetAtoms():\n",
    "        feats.append(atom.GetAtomicNum())\n",
    "        feats.append(atom.GetDegree())\n",
    "        feats.append(atom.GetTotalDegree())\n",
    "        feats.append(atom.GetExplicitValence())\n",
    "        feats.append(atom.GetImplicitValence())\n",
    "        feats.append(atom.GetTotalNumHs())\n",
    "        feats.append(atom.GetFormalCharge())\n",
    "        feats.append(atom.GetNumRadicalElectrons())\n",
    "        feats.append(atom.GetIsAromatic())\n",
    "        feats.append(atom.IsInRing())\n",
    "        feats.append(atom.GetMass() * 0.01)\n",
    "    return {'atom_feats': torch.tensor(feats).reshape(-1, 11).float()}"
   ]
  },
  {
   "cell_type": "code",
   "execution_count": 4,
   "metadata": {},
   "outputs": [],
   "source": [
    "def featurize_bonds(mol):\n",
    "    feats = []\n",
    "    bond_types = [Chem.rdchem.BondType.SINGLE, Chem.rdchem.BondType.DOUBLE,\n",
    "                  Chem.rdchem.BondType.TRIPLE, Chem.rdchem.BondType.AROMATIC]\n",
    "    for bond in mol.GetBonds():\n",
    "        btype = bond_types.index(bond.GetBondType())\n",
    "        is_conjugated = bond.GetIsConjugated()\n",
    "        is_in_ring = bond.IsInRing()\n",
    "        stereo_config = bond.GetStereo()\n",
    "        direction = bond.GetBondDir()\n",
    "        feats.extend([btype, btype])\n",
    "        feats.extend([is_conjugated, is_conjugated])\n",
    "        feats.extend([is_in_ring, is_in_ring])\n",
    "        feats.extend([stereo_config, stereo_config])\n",
    "        feats.extend([direction, direction])\n",
    "    return {'bond_feats': torch.tensor(feats).reshape(-1, 5)}"
   ]
  },
  {
   "cell_type": "code",
   "execution_count": 7,
   "metadata": {},
   "outputs": [],
   "source": [
    "graphs = []\n",
    "graphs.append(smiles_to_bigraph(\"C\", node_featurizer = featurize_atoms, edge_featurizer = featurize_bonds, explicit_hydrogens = True))\n",
    "graphs.append(smiles_to_bigraph(\"N\", node_featurizer = featurize_atoms, edge_featurizer = featurize_bonds, explicit_hydrogens = True))\n",
    "graphs.append(smiles_to_bigraph(\"O\", node_featurizer = featurize_atoms, edge_featurizer = featurize_bonds, explicit_hydrogens = True))"
   ]
  },
  {
   "cell_type": "code",
   "execution_count": 8,
   "metadata": {},
   "outputs": [
    {
     "data": {
      "text/plain": [
       "(tensor([0, 1, 2, 3, 4], dtype=torch.int32),\n",
       " {'atom_feats': tensor([[1.0000, 1.0000, 1.0000, 1.0000, 0.0000, 0.0000, 0.0000, 0.0000, 0.0000,\n",
       "          0.0000, 0.0101],\n",
       "         [6.0000, 4.0000, 4.0000, 4.0000, 0.0000, 0.0000, 0.0000, 0.0000, 0.0000,\n",
       "          0.0000, 0.1201],\n",
       "         [1.0000, 1.0000, 1.0000, 1.0000, 0.0000, 0.0000, 0.0000, 0.0000, 0.0000,\n",
       "          0.0000, 0.0101],\n",
       "         [1.0000, 1.0000, 1.0000, 1.0000, 0.0000, 0.0000, 0.0000, 0.0000, 0.0000,\n",
       "          0.0000, 0.0101],\n",
       "         [1.0000, 1.0000, 1.0000, 1.0000, 0.0000, 0.0000, 0.0000, 0.0000, 0.0000,\n",
       "          0.0000, 0.0101]])})"
      ]
     },
     "execution_count": 8,
     "metadata": {},
     "output_type": "execute_result"
    }
   ],
   "source": [
    "graphs[0].nodes(), graphs[0].ndata"
   ]
  },
  {
   "cell_type": "code",
   "execution_count": 22,
   "metadata": {},
   "outputs": [
    {
     "data": {
      "text/plain": [
       "((tensor([1, 2, 1, 3, 1, 4, 1, 0], dtype=torch.int32),\n",
       "  tensor([2, 1, 3, 1, 4, 1, 0, 1], dtype=torch.int32)),\n",
       " {'bond_feats': tensor([[0, 0, 0, 0, 0],\n",
       "         [0, 0, 0, 0, 0],\n",
       "         [0, 0, 0, 0, 0],\n",
       "         [0, 0, 0, 0, 0],\n",
       "         [0, 0, 0, 0, 0],\n",
       "         [0, 0, 0, 0, 0],\n",
       "         [0, 0, 0, 0, 0],\n",
       "         [0, 0, 0, 0, 0]])})"
      ]
     },
     "execution_count": 22,
     "metadata": {},
     "output_type": "execute_result"
    }
   ],
   "source": [
    "graphs[0].edges(), graphs[0].edata"
   ]
  },
  {
   "cell_type": "code",
   "execution_count": 23,
   "metadata": {},
   "outputs": [],
   "source": [
    "save_graphs(\"./graphs.bin\", graphs)"
   ]
  },
  {
   "cell_type": "code",
   "execution_count": 24,
   "metadata": {},
   "outputs": [
    {
     "data": {
      "text/plain": [
       "([Graph(num_nodes=5, num_edges=8,\n",
       "        ndata_schemes={'atom_feats': Scheme(shape=(11,), dtype=torch.float32)}\n",
       "        edata_schemes={'bond_feats': Scheme(shape=(5,), dtype=torch.int64)}),\n",
       "  Graph(num_nodes=4, num_edges=6,\n",
       "        ndata_schemes={'atom_feats': Scheme(shape=(11,), dtype=torch.float32)}\n",
       "        edata_schemes={'bond_feats': Scheme(shape=(5,), dtype=torch.int64)}),\n",
       "  Graph(num_nodes=3, num_edges=4,\n",
       "        ndata_schemes={'atom_feats': Scheme(shape=(11,), dtype=torch.float32)}\n",
       "        edata_schemes={'bond_feats': Scheme(shape=(5,), dtype=torch.int64)})],\n",
       " {})"
      ]
     },
     "execution_count": 24,
     "metadata": {},
     "output_type": "execute_result"
    }
   ],
   "source": [
    "load_graphs(\"./graphs.bin\")"
   ]
  },
  {
   "cell_type": "code",
   "execution_count": null,
   "metadata": {},
   "outputs": [],
   "source": []
  }
 ],
 "metadata": {
  "kernelspec": {
   "display_name": "Python 3",
   "language": "python",
   "name": "python3"
  },
  "language_info": {
   "codemirror_mode": {
    "name": "ipython",
    "version": 3
   },
   "file_extension": ".py",
   "mimetype": "text/x-python",
   "name": "python",
   "nbconvert_exporter": "python",
   "pygments_lexer": "ipython3",
   "version": "3.8.6"
  }
 },
 "nbformat": 4,
 "nbformat_minor": 4
}
