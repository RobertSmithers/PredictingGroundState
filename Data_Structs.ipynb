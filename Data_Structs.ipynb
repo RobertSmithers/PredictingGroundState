{
 "cells": [
  {
   "cell_type": "markdown",
   "id": "metropolitan-words",
   "metadata": {},
   "source": [
    "## In this file, we will define our dataset"
   ]
  },
  {
   "cell_type": "code",
   "execution_count": 53,
   "id": "contemporary-tribune",
   "metadata": {},
   "outputs": [],
   "source": [
    "import pandas as pd\n",
    "import numpy as np\n",
    "import torch\n",
    "from dgl.data import DGLDataset\n",
    "from dgl.data.utils import save_graphs, load_graphs"
   ]
  },
  {
   "cell_type": "markdown",
   "id": "opened-fourth",
   "metadata": {},
   "source": [
    "### Dataset"
   ]
  },
  {
   "cell_type": "code",
   "execution_count": 73,
   "id": "selected-savage",
   "metadata": {},
   "outputs": [],
   "source": [
    "# Template taken from https://docs.dgl.ai/tutorials/blitz/6_load_data.html#sphx-glr-tutorials-blitz-6-load-data-py\n",
    "class SyntheticDataset(DGLDataset):\n",
    "    def __init__(self):\n",
    "        super().__init__(name='synthetic')\n",
    "\n",
    "# Load the pandas csv and take the minimum potential energy column\n",
    "        \n",
    "    def process(self):\n",
    "        pe_data = pd.read_csv('./Data/pe_data_F.csv')\n",
    "        self.graphs = load_graphs(\"./DataGraphs/data_F_graph.bin\")\n",
    "        self.labels = pe_data[\"Min_PE\"]\n",
    "\n",
    "        # Convert the label list to tensor for saving.\n",
    "        self.labels = torch.tensor(self.labels)\n",
    "\n",
    "    def __getitem__(self, i):\n",
    "        return self.graphs[0][i], self.labels[i]\n",
    "\n",
    "    def __len__(self):\n",
    "        return len(self.graphs[0])"
   ]
  }
 ],
 "metadata": {
  "kernelspec": {
   "display_name": "Python 3",
   "language": "python",
   "name": "python3"
  },
  "language_info": {
   "codemirror_mode": {
    "name": "ipython",
    "version": 3
   },
   "file_extension": ".py",
   "mimetype": "text/x-python",
   "name": "python",
   "nbconvert_exporter": "python",
   "pygments_lexer": "ipython3",
   "version": "3.8.6"
  }
 },
 "nbformat": 4,
 "nbformat_minor": 5
}
