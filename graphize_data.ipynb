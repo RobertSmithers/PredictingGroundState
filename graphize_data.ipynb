{
 "cells": [
  {
   "cell_type": "markdown",
   "metadata": {},
   "source": [
    "### In this file, we will reconstruct our data into graphs"
   ]
  },
  {
   "cell_type": "markdown",
   "metadata": {},
   "source": [
    "Instructions: You should probably have another separate notebook that creates the graph version of the dataset. Again, you should save the data, and for this make use to use the save_graph and load_graph functions of DGL.\n",
    "\n",
    "Important Libraries:\n",
    "ase\n",
    "Structure/Geometry of a molecule"
   ]
  },
  {
   "cell_type": "code",
   "execution_count": 85,
   "metadata": {},
   "outputs": [],
   "source": [
    "import pandas as pd\n",
    "import torch\n",
    "from rdkit import Chem\n",
    "from rdkit.Chem import AllChem\n",
    "from ase.io import read, write\n",
    "from dgllife.utils import smiles_to_bigraph, featurizers\n",
    "from dgl.data.utils import save_graphs, load_graphs"
   ]
  },
  {
   "cell_type": "code",
   "execution_count": 86,
   "metadata": {},
   "outputs": [],
   "source": [
    "\n",
    "# Features added from this paper (https://arxiv.org/pdf/1704.01212.pdf) Table 1\n",
    "'''\n",
    "According to table 1 of that paper, these are the features they use. We have already discovered the importance of\n",
    "both acceptor/donator of electrons as well as partial magnetism, thus we will for sure want to use those similar features\n",
    "\n",
    "Unfortunately, we could not get the acceptor/donor binary features in time, though we looked at the WeaveAtomFeaturizer to accomplish this\n",
    "\n",
    "Atom type        H, C, N, O, F (one-hot)\n",
    "Atomic number    Number of protons (integer)\n",
    "Acceptor         Accepts electrons (binary)\n",
    "Donor            Donates electrons (binary)\n",
    "Aromatic         In an aromatic system (binary)\n",
    "Hybridization    sp, sp2, sp3 (one-hot or null)\n",
    "Number of Hydrogens (integer)\n",
    "'''\n",
    "\n",
    "# To get our ROMol and get numhacceptors/donors working, would use PandasTools.AddMoleculeColumnToFrame(esol_data, smilesCol='smiles')\n",
    "\n",
    "def featurize_atoms(mol):\n",
    "    \n",
    "    def one_hot_to_value(one_hot_li):\n",
    "        for i in range(len(one_hot_li)):\n",
    "            if one_hot_li[i]:\n",
    "                return i\n",
    "        return -1\n",
    "\n",
    "    feature_map = lambda atom: [\n",
    "                                one_hot_to_value(featurizers.atom_type_one_hot(atom)), # One-hot to index-value of atom type\n",
    "                                atom.GetAtomicNum(),\n",
    "#                                 Chem.Descriptors.NumHAcceptors(atom),    # H-Bond acceptors\n",
    "#                                 Chem.Descriptors.NumHDonors(atom),    # H-Bond donors\n",
    "                                atom.GetIsAromatic(),\n",
    "                                one_hot_to_value(featurizers.atom_hybridization_one_hot(atom)), # Hybridization mentioned above\n",
    "                                atom.GetDegree(),\n",
    "                                atom.GetTotalDegree(),\n",
    "                                atom.GetExplicitValence(),\n",
    "                                atom.GetImplicitValence(),\n",
    "                                atom.GetTotalNumHs(),\n",
    "                                atom.GetFormalCharge(),\n",
    "                                atom.GetNumRadicalElectrons(),\n",
    "                                atom.IsInRing(), \n",
    "                                atom.GetMass() * 0.01\n",
    "                                ]\n",
    "    \n",
    "    feats = []\n",
    "    AllChem.EmbedMolecule(mol)\n",
    "    Chem.rdmolfiles.MolToXYZFile(mol, \"3Dembedded.xyz\")\n",
    "    mol_ase = read(\"3Dembedded.xyz\")\n",
    "    atom_count = 0\n",
    "    for atom in mol.GetAtoms():\n",
    "        feats.append(feature_map(atom))\n",
    "        feats.append(pos[atom_count][0])\n",
    "        feats.append(pos[atom_count][1])\n",
    "        feats.append(pos[atom_count][2])\n",
    "        atom_count += 1\n",
    "    return {'atom_feats': torch.tensor(feats).reshape(-1, len(feats[0])).float()}"
   ]
  },
  {
   "cell_type": "code",
   "execution_count": 79,
   "metadata": {},
   "outputs": [],
   "source": [
    "def featurize_bonds(mol):\n",
    "    feats = []\n",
    "    bond_types = [Chem.rdchem.BondType.SINGLE, Chem.rdchem.BondType.DOUBLE,\n",
    "                  Chem.rdchem.BondType.TRIPLE, Chem.rdchem.BondType.AROMATIC]\n",
    "    for bond in mol.GetBonds():\n",
    "        btype = bond_types.index(bond.GetBondType())\n",
    "        is_conjugated = bond.GetIsConjugated()\n",
    "        is_in_ring = bond.IsInRing()\n",
    "        stereo_config = bond.GetStereo()\n",
    "        direction = bond.GetBondDir()\n",
    "        feats.extend([btype, btype])\n",
    "        feats.extend([is_conjugated, is_conjugated])\n",
    "        feats.extend([is_in_ring, is_in_ring])\n",
    "        feats.extend([stereo_config, stereo_config])\n",
    "        feats.extend([direction, direction])\n",
    "    return {'bond_feats': torch.tensor(feats).reshape(-1, 5)}"
   ]
  },
  {
   "cell_type": "markdown",
   "metadata": {},
   "source": [
    "### Generate Graph objects from our Dataset(s)"
   ]
  },
  {
   "cell_type": "code",
   "execution_count": 80,
   "metadata": {},
   "outputs": [],
   "source": [
    "from tqdm.notebook import tqdm"
   ]
  },
  {
   "cell_type": "code",
   "execution_count": 81,
   "metadata": {},
   "outputs": [],
   "source": [
    "def get_graphs(dataset_name):\n",
    "    df = pd.read_csv(dataset_name)\n",
    "    graphs =[]\n",
    "    for smile in tqdm(df[\"SMILES\"]):\n",
    "        graphs.append(smiles_to_bigraph(smile,\n",
    "                                       node_featurizer = featurize_atoms,\n",
    "                                       edge_featurizer = featurize_bonds,\n",
    "                                       explicit_hydrogens = True)\n",
    "                     )\n",
    "    return graphs"
   ]
  },
  {
   "cell_type": "code",
   "execution_count": 82,
   "metadata": {},
   "outputs": [
    {
     "data": {
      "application/vnd.jupyter.widget-view+json": {
       "model_id": "9e8a41caf1d8463799c4add8993028ba",
       "version_major": 2,
       "version_minor": 0
      },
      "text/plain": [
       "  0%|          | 0/13480 [00:00<?, ?it/s]"
      ]
     },
     "metadata": {},
     "output_type": "display_data"
    }
   ],
   "source": [
    "graphs = get_graphs(\"Data/pe_data_combined.csv\")"
   ]
  },
  {
   "cell_type": "code",
   "execution_count": 51,
   "metadata": {},
   "outputs": [
    {
     "data": {
      "text/plain": [
       "(tensor([ 0,  1,  2,  3,  4,  5,  6,  7,  8,  9, 10, 11, 12, 13, 14, 15, 16, 17,\n",
       "         18, 19, 20, 21, 22, 23, 24, 25, 26, 27, 28, 29, 30, 31, 32, 33, 34, 35,\n",
       "         36, 37, 38, 39, 40, 41], dtype=torch.int32),\n",
       " tensor([1., 1., 6., 1., 1., 6., 1., 1., 1., 1., 1., 1., 1., 1., 1., 1., 1., 1.,\n",
       "         1., 1., 1., 1., 7., 6., 7., 6., 6., 6., 6., 6., 8., 6., 6., 6., 6., 6.,\n",
       "         6., 7., 6., 6., 6., 7.]))"
      ]
     },
     "execution_count": 51,
     "metadata": {},
     "output_type": "execute_result"
    }
   ],
   "source": [
    "# Visualize the nodes, the first column of atom features\n",
    "graphs[0].nodes(), graphs[0].ndata['atom_feats'][:,0]"
   ]
  },
  {
   "cell_type": "code",
   "execution_count": 52,
   "metadata": {},
   "outputs": [
    {
     "data": {
      "text/plain": [
       "Graph(num_nodes=24, num_edges=46,\n",
       "      ndata_schemes={'atom_feats': Scheme(shape=(11,), dtype=torch.float32)}\n",
       "      edata_schemes={'bond_feats': Scheme(shape=(5,), dtype=torch.int64)})"
      ]
     },
     "execution_count": 52,
     "metadata": {},
     "output_type": "execute_result"
    }
   ],
   "source": [
    "graphs[-1]"
   ]
  },
  {
   "cell_type": "code",
   "execution_count": 54,
   "metadata": {},
   "outputs": [
    {
     "data": {
      "text/plain": [
       "(tensor([24, 31, 31, 30, 31, 32, 32, 29, 29, 22, 22, 23, 23, 37, 37, 27, 27, 28,\n",
       "         28, 35, 35, 36, 36, 38, 38, 39, 39, 25, 25, 26, 36, 33, 33, 34, 34, 40,\n",
       "         40, 41, 41,  2,  2,  5, 37, 32, 26, 35,  5, 33, 33, 23, 24,  1, 24,  4,\n",
       "         29, 14, 27, 13, 27, 15, 28, 12, 28, 10, 38, 11, 39,  6, 25,  3, 26,  0,\n",
       "         34, 19, 34,  7, 40,  9, 40, 18, 41, 20,  2,  8,  2, 17,  5, 21,  5, 16],\n",
       "        dtype=torch.int32),\n",
       " tensor([[0, 0, 1, 1, 0],\n",
       "         [0, 0, 0, 0, 0],\n",
       "         [1, 1, 1, 1, 0],\n",
       "         [0, 0, 0, 0, 0]]))"
      ]
     },
     "execution_count": 54,
     "metadata": {},
     "output_type": "execute_result"
    }
   ],
   "source": [
    "graphs[0].edges()[0], graphs[0].edata['bond_feats'][:4]"
   ]
  },
  {
   "cell_type": "code",
   "execution_count": 83,
   "metadata": {},
   "outputs": [],
   "source": [
    "save_graphs(\"./DataGraphs/combined_graph_reduced_new_feats.bin\", graphs)"
   ]
  },
  {
   "cell_type": "code",
   "execution_count": 57,
   "metadata": {},
   "outputs": [
    {
     "data": {
      "text/plain": [
       "<bound method DGLHeteroGraph.number_of_nodes of Graph(num_nodes=42, num_edges=90,\n",
       "      ndata_schemes={'atom_feats': Scheme(shape=(11,), dtype=torch.float32)}\n",
       "      edata_schemes={'bond_feats': Scheme(shape=(5,), dtype=torch.int64)})>"
      ]
     },
     "execution_count": 57,
     "metadata": {},
     "output_type": "execute_result"
    }
   ],
   "source": [
    "gs = load_graphs(\"./DataGraphs/pe_data_combined_graph.bin\")[0][0]\n",
    "gs.number_of_nodes"
   ]
  },
  {
   "cell_type": "code",
   "execution_count": null,
   "metadata": {},
   "outputs": [],
   "source": []
  }
 ],
 "metadata": {
  "kernelspec": {
   "display_name": "Python 3",
   "language": "python",
   "name": "python3"
  },
  "language_info": {
   "codemirror_mode": {
    "name": "ipython",
    "version": 3
   },
   "file_extension": ".py",
   "mimetype": "text/x-python",
   "name": "python",
   "nbconvert_exporter": "python",
   "pygments_lexer": "ipython3",
   "version": "3.8.6"
  }
 },
 "nbformat": 4,
 "nbformat_minor": 4
}
